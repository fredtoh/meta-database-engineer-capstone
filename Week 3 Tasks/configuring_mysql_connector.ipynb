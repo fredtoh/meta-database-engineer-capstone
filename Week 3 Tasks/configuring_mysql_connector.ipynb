{
 "cells": [
  {
   "attachments": {},
   "cell_type": "markdown",
   "metadata": {},
   "source": [
    "## Connecting to Little Lemon DB with Python/MySQL database client"
   ]
  },
  {
   "cell_type": "code",
   "execution_count": 1,
   "metadata": {},
   "outputs": [
    {
     "name": "stdout",
     "output_type": "stream",
     "text": [
      "Requirement already satisfied: mysql-connector-python in c:\\users\\fredt\\appdata\\local\\programs\\python\\python310\\lib\\site-packages (8.0.32)\n",
      "Requirement already satisfied: protobuf<=3.20.3,>=3.11.0 in c:\\users\\fredt\\appdata\\local\\programs\\python\\python310\\lib\\site-packages (from mysql-connector-python) (3.20.3)\n"
     ]
    },
    {
     "name": "stderr",
     "output_type": "stream",
     "text": [
      "\n",
      "[notice] A new release of pip available: 22.3.1 -> 23.0.1\n",
      "[notice] To update, run: python.exe -m pip install --upgrade pip\n"
     ]
    }
   ],
   "source": [
    "!pip install mysql-connector-python\n",
    "import mysql.connector as connector"
   ]
  },
  {
   "attachments": {},
   "cell_type": "markdown",
   "metadata": {},
   "source": [
    "#### Task One\n",
    "Connect to the database."
   ]
  },
  {
   "cell_type": "code",
   "execution_count": 2,
   "metadata": {},
   "outputs": [],
   "source": [
    "connection = connector.connect(user = \"capstone\", password = \"lemon@123!\", db=\"littlelemondb\")\n",
    "cursor = connection.cursor()"
   ]
  },
  {
   "attachments": {},
   "cell_type": "markdown",
   "metadata": {},
   "source": [
    "#### Task Two\n",
    "Query the database for table names."
   ]
  },
  {
   "cell_type": "code",
   "execution_count": 3,
   "metadata": {},
   "outputs": [
    {
     "name": "stdout",
     "output_type": "stream",
     "text": [
      "('bookings',)\n",
      "('customers',)\n",
      "('deliverystatus',)\n",
      "('menuitems',)\n",
      "('menus',)\n",
      "('orders',)\n",
      "('ordersview',)\n",
      "('staff',)\n"
     ]
    }
   ],
   "source": [
    "show_tables_query = \"SHOW tables\" \n",
    "cursor.execute(show_tables_query)\n",
    "results = cursor.fetchall()\n",
    "\n",
    "# Printing tables in database\n",
    "for row in results:\n",
    "    print(row)"
   ]
  },
  {
   "attachments": {},
   "cell_type": "markdown",
   "metadata": {},
   "source": [
    "#### Task Three\n",
    "Query with table JOIN\n",
    "\n",
    "Find out the full name and contact details for every customer that has placed an order greater than $60 for a promotional campaign."
   ]
  },
  {
   "cell_type": "code",
   "execution_count": 4,
   "metadata": {},
   "outputs": [
    {
     "name": "stdout",
     "output_type": "stream",
     "text": [
      "('FullName', 'ContactNumber', 'BillAmount')\n",
      "('Customer 4', 9123456, Decimal('210.00'))\n",
      "('Customer 5', 8123456, Decimal('70.00'))\n",
      "('Customer 6', 7123456, Decimal('175.00'))\n",
      "('Customer 3', 1234569, Decimal('70.00'))\n"
     ]
    }
   ],
   "source": [
    "query_stmt = \"\"\"\n",
    "SELECT Customers.FullName, Customers.ContactNumber, Orders.TotalCost AS `BillAmount`\n",
    "FROM Customers\n",
    "JOIN Orders\n",
    "ON Customers.CustomerID = Orders.CustomerID\n",
    "WHERE Orders.TotalCost > 60;\n",
    "\"\"\"\n",
    "cursor.execute(query_stmt)\n",
    "results = cursor.fetchall()\n",
    "\n",
    "# Printing results\n",
    "print(cursor.column_names)\n",
    "for row in results:\n",
    "    print(row)"
   ]
  },
  {
   "attachments": {},
   "cell_type": "markdown",
   "metadata": {},
   "source": [
    "#### Closing database connection"
   ]
  },
  {
   "cell_type": "code",
   "execution_count": 5,
   "metadata": {},
   "outputs": [],
   "source": [
    "cursor.close()\n",
    "connection.close()"
   ]
  }
 ],
 "metadata": {
  "kernelspec": {
   "display_name": "Python 3",
   "language": "python",
   "name": "python3"
  },
  "language_info": {
   "codemirror_mode": {
    "name": "ipython",
    "version": 3
   },
   "file_extension": ".py",
   "mimetype": "text/x-python",
   "name": "python",
   "nbconvert_exporter": "python",
   "pygments_lexer": "ipython3",
   "version": "3.10.5"
  },
  "orig_nbformat": 4,
  "vscode": {
   "interpreter": {
    "hash": "598eccd6e6918e294c7ff4cf0608b8af9a526f4bc600c8064de55ab259a9e10d"
   }
  }
 },
 "nbformat": 4,
 "nbformat_minor": 2
}
